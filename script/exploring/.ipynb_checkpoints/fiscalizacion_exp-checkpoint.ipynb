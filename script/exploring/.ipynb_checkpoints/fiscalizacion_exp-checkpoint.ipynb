{
 "cells": [
  {
   "cell_type": "code",
   "execution_count": null,
   "metadata": {},
   "outputs": [],
   "source": [
    "import pandas as pd\n",
    "import matplotlib.pyplot as plt\n",
    "import geopandas as gpd\n",
    "from shapely.geometry import Point,Polygon\n",
    "#import descartes\n",
    "import numpy as np\n",
    " \n",
    "%matplotlib inline"
   ]
  },
  {
   "cell_type": "code",
   "execution_count": null,
   "metadata": {},
   "outputs": [],
   "source": [
    "#Leer archivos\n",
    "shp_barrio  = \"../../data/shp/barrios_WGS84/BARRIOS_WGS84.shp\"\n",
    "fiscalizacion = pd.read_csv(\"../../data/fiscalizacion.csv\",sep=\",\")\n",
    "empresasContratistas = pd.read_csv(\"../../data/empresaContratista.csv\",sep=\";\")\n",
    "empresasSolicitantes = pd.read_excel(\"../../data/empresas.xlsx\")"
   ]
  },
  {
   "cell_type": "code",
   "execution_count": null,
   "metadata": {},
   "outputs": [],
   "source": [
    "#Filtrar:\n",
    "fiscalizacion = fiscalizacion[fiscalizacion[\"activity_status\"] == \"complete\"]\n",
    "fiscalizacion = fiscalizacion[fiscalizacion[\"tipo_obra\"] == \"ACERA\"]\n",
    "#CA1 : No es de CONTROL\n",
    "fiscalizacion = fiscalizacion[fiscalizacion[\"grupo_planificador\"] != \"CA1\"]"
   ]
  },
  {
   "cell_type": "code",
   "execution_count": null,
   "metadata": {},
   "outputs": [],
   "source": [
    "#Renombrar valores\n",
    "fiscalizacion.loc[fiscalizacion['grupo_planificador'] == 'VE4', 'grupo_planificador'] = 'CO'\n",
    "fiscalizacion.loc[fiscalizacion['grupo_planificador'] == 'VE5', 'grupo_planificador'] = 'CC'\n",
    "fiscalizacion.loc[fiscalizacion['grupo_planificador'] == 'VE6', 'grupo_planificador'] = 'CD'\n",
    "fiscalizacion.loc[fiscalizacion['grupo_planificador'] == 'VE7', 'grupo_planificador'] = 'CM'\n",
    "\n",
    "# fiscalizacion.loc[fiscalizacion['estado_general'].isin(['A_DBE','C_PBE']), 'estado_general'] = '1'\n"
   ]
  },
  {
   "cell_type": "code",
   "execution_count": null,
   "metadata": {},
   "outputs": [],
   "source": [
    "# 1 : Bien ejecutado\n",
    "# 0 : Mal Ejecutado\n",
    "fiscalizacion['output'] = fiscalizacion['estado_general'].apply(lambda x: 1 if x in ['A_DBE','C_PBE'] else 0)"
   ]
  },
  {
   "cell_type": "code",
   "execution_count": null,
   "metadata": {},
   "outputs": [],
   "source": [
    "fig, axes = plt.subplots(nrows=1,ncols=2)\n",
    "\n",
    "axes[0].pie(fiscalizacion[\"grupo_planificador\"].value_counts(),\n",
    "            labels = fiscalizacion[\"grupo_planificador\"].value_counts().index,\n",
    "            autopct='%1.1f%%');\n",
    "axes[1].pie(fiscalizacion[\"output\"].value_counts(),\n",
    "            labels = fiscalizacion[\"output\"].value_counts().index,\n",
    "            autopct='%1.1f%%' );\n"
   ]
  },
  {
   "cell_type": "code",
   "execution_count": null,
   "metadata": {},
   "outputs": [],
   "source": [
    "#Borrar columnas innecesarias\n",
    "fiscalizacion = fiscalizacion.drop([\"activitytype\",\n",
    "                                    \"streetaddress\",\n",
    "                                    \"estado_general\",\n",
    "                                    \"aid\",\n",
    "                                    \"activity_status\",\n",
    "                                    \"atime_of_assignment\",\n",
    "                                    \"ctime_delivered_end\",\n",
    "                                    \"atime_of_booking\",\n",
    "                                    \"mobileactaintima\",\n",
    "                                    \"mobileactacomproba\",\n",
    "                                    \"barrio\",\n",
    "                                    \"comuna\"],1)\n"
   ]
  },
  {
   "cell_type": "code",
   "execution_count": null,
   "metadata": {},
   "outputs": [],
   "source": [
    "#Join con nombres de empresas contratistas normalizadas\n",
    "fiscalizacion = pd.merge(fiscalizacion, empresasContratistas, on='empresa_contratista', how='inner')\n",
    "fiscalizacion = fiscalizacion.drop(\"empresa_contratista\",1)"
   ]
  },
  {
   "cell_type": "code",
   "execution_count": null,
   "metadata": {},
   "outputs": [],
   "source": [
    "#Selecciono columnas necesarias\n",
    "empresasSolicitantes = empresasSolicitantes.iloc[:,[2,3]]\n",
    "empresasSolicitantes.columns = [\"empresa_solicitante\",\"empresa_solicitante_normalizada\"]"
   ]
  },
  {
   "cell_type": "code",
   "execution_count": null,
   "metadata": {},
   "outputs": [],
   "source": [
    "#Join con nombres de empresas solicitantes normalizadas\n",
    "fiscalizacion = pd.merge(fiscalizacion, empresasSolicitantes, on='empresa_solicitante', how='inner')\n",
    "fiscalizacion = fiscalizacion.drop(\"empresa_solicitante\",1)"
   ]
  },
  {
   "cell_type": "code",
   "execution_count": null,
   "metadata": {},
   "outputs": [],
   "source": [
    "fiscalizacion[\"date\"] = pd.to_datetime(fiscalizacion[\"date\"])\n",
    "fiscalizacion[\"inicio_obra\"] = pd.to_datetime(fiscalizacion[\"inicio_obra\"])\n",
    "fiscalizacion[\"fin_obra\"] = pd.to_datetime(fiscalizacion[\"fin_obra\"])"
   ]
  },
  {
   "cell_type": "code",
   "execution_count": null,
   "metadata": {},
   "outputs": [],
   "source": [
    "# fiscalizacion_CO = fiscalizacion[fiscalizacion[\"grupo_planificador\"] == \"CO\"]\n",
    "# fiscalizacion_CC = fiscalizacion[fiscalizacion[\"grupo_planificador\"] == \"CC\"]\n",
    "# fiscalizacion_CD = fiscalizacion[fiscalizacion[\"grupo_planificador\"] == \"CD\"]\n",
    "# fiscalizacion_CM = fiscalizacion[fiscalizacion[\"grupo_planificador\"] == \"CM\"]"
   ]
  },
  {
   "cell_type": "code",
   "execution_count": null,
   "metadata": {},
   "outputs": [],
   "source": [
    "# import pandas_profiling as pdf\n",
    "# outputPath = \"output/pandas profiling/\"\n",
    "# fiscProfilev2 = fiscalizacion.profile_report()\n",
    "# fiscProfilev2.to_file(output_file = outputPath + \"fiscProfile_v2.html\")"
   ]
  },
  {
   "cell_type": "code",
   "execution_count": null,
   "metadata": {},
   "outputs": [],
   "source": [
    "#Filtro lat y long erroneos\n",
    "fiscalizacion = fiscalizacion[fiscalizacion[\"longitude\"] != 0]\n",
    "fiscalizacion = fiscalizacion[fiscalizacion[\"latitude\"] != 0]\n",
    "\n",
    "fiscalizacion[\"latitude\"] ,fiscalizacion[\"longitude\"]  = np.where(fiscalizacion[\"latitude\"] > fiscalizacion[\"longitude\"],(fiscalizacion['latitude'],fiscalizacion['longitude']),(fiscalizacion['longitude'],fiscalizacion['latitude']))"
   ]
  },
  {
   "cell_type": "code",
   "execution_count": null,
   "metadata": {},
   "outputs": [],
   "source": [
    "barrios = gpd.read_file(shp_barrio)"
   ]
  },
  {
   "cell_type": "code",
   "execution_count": null,
   "metadata": {},
   "outputs": [],
   "source": [
    "#Join entre fiscalizacion con barrio , se obtienen barrios y comunas correctos.\n",
    "geometry = [Point(xy) for xy in zip(fiscalizacion[\"longitude\"],fiscalizacion[\"latitude\"])]\n",
    "fiscalizacion = gpd.GeoDataFrame(fiscalizacion, crs = {'init': 'epsg:4326'} , geometry=geometry)\n",
    "fiscalizacion = gpd.sjoin(fiscalizacion, barrios, op='within') "
   ]
  },
  {
   "cell_type": "code",
   "execution_count": null,
   "metadata": {},
   "outputs": [],
   "source": [
    "fiscalizacion = fiscalizacion.drop([\"PERIMETRO\",\n",
    "                                    \"AREA\",\n",
    "                                    \"index_right\"],1)"
   ]
  },
  {
   "cell_type": "code",
   "execution_count": null,
   "metadata": {},
   "outputs": [],
   "source": [
    "#Mapa de puntos\n",
    "# fig,ax = plt.subplots(figsize = (10,10))\n",
    "# street_map.plot(ax = ax, alpha = 0.4)\n",
    "# geo_df[geo_df[\"grupo_planificador\"] == 'CO'].plot(ax = ax , color = 'blue' ,marker = \"o\",markersize = 20,label = \"CO\")\n",
    "# geo_df[geo_df[\"grupo_planificador\"] == 'CC'].plot(ax = ax , color = 'red' ,marker = \"^\",markersize = 20,label = \"CC\")\n",
    "# geo_df[geo_df[\"grupo_planificador\"] == 'CD'].plot(ax = ax , color = 'green' ,marker = \"^\",markersize = 20,label = \"CD\")\n",
    "# geo_df[geo_df[\"grupo_planificador\"] == 'CM'].plot(ax = ax , color = 'yellow' ,marker = \"^\",markersize = 20,label = \"CM\")\n",
    "# fiscalizacion.plot(ax = ax , color = 'blue' ,marker = \"^\",markersize = 20,label = \"C\")\n",
    "# plt.legend(prop = {\"size\" : 10 })"
   ]
  },
  {
   "cell_type": "code",
   "execution_count": null,
   "metadata": {},
   "outputs": [],
   "source": [
    "#from folium.plugins import HeatMap"
   ]
  },
  {
   "cell_type": "code",
   "execution_count": null,
   "metadata": {},
   "outputs": [],
   "source": [
    "#HeatMap\n",
    "#fisc_map = folium.Map(location=[\"-34.58818\", \"-58.39861\"], zoom_start=11)\n",
    "#heat_data = [[row['latitude'],row['longitude']] for index, row in fiscalizacion.iterrows()]\n",
    "#HeatMap(heat_data).add_to(fisc_map)\n",
    "#fisc_map"
   ]
  },
  {
   "cell_type": "code",
   "execution_count": null,
   "metadata": {},
   "outputs": [],
   "source": []
  }
 ],
 "metadata": {
  "file_extension": ".py",
  "kernelspec": {
   "display_name": "Python 3",
   "language": "python",
   "name": "python3"
  },
  "language_info": {
   "codemirror_mode": {
    "name": "ipython",
    "version": 3
   },
   "file_extension": ".py",
   "mimetype": "text/x-python",
   "name": "python",
   "nbconvert_exporter": "python",
   "pygments_lexer": "ipython3",
   "version": "3.7.4"
  },
  "mimetype": "text/x-python",
  "name": "python",
  "npconvert_exporter": "python",
  "pygments_lexer": "ipython3",
  "version": 3
 },
 "nbformat": 4,
 "nbformat_minor": 4
}
