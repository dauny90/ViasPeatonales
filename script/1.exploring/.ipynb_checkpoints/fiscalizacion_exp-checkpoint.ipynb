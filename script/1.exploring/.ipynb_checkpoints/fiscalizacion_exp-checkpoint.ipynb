{
 "cells": [
  {
   "cell_type": "code",
   "execution_count": 42,
   "metadata": {},
   "outputs": [],
   "source": [
    "import pandas as pd\n",
    "import matplotlib.pyplot as plt\n",
    "import geopandas as gpd\n",
    "from shapely.geometry import Point,Polygon\n",
    "#import descartes\n",
    "import numpy as np\n",
    " \n",
    "%matplotlib inline"
   ]
  },
  {
   "cell_type": "code",
   "execution_count": 43,
   "metadata": {},
   "outputs": [],
   "source": [
    "pd.set_option('display.max_columns', 500)"
   ]
  },
  {
   "cell_type": "code",
   "execution_count": 44,
   "metadata": {},
   "outputs": [
    {
     "name": "stderr",
     "output_type": "stream",
     "text": [
      "C:\\Users\\dawoo\\Anaconda3\\lib\\site-packages\\IPython\\core\\interactiveshell.py:3058: DtypeWarning: Columns (2,34,41,43,48,54,70) have mixed types. Specify dtype option on import or set low_memory=False.\n",
      "  interactivity=interactivity, compiler=compiler, result=result)\n"
     ]
    }
   ],
   "source": [
    "#Leer archivos\n",
    "shp_barrio  = \"../../data/shp/barrios_WGS84/BARRIOS_WGS84.shp\"\n",
    "fiscalizacion = pd.read_csv(\"../../data/fiscalizacion.csv\",sep=\",\")\n",
    "empresasContratistas = pd.read_csv(\"../../data/empresaContratista.csv\",sep=\";\")\n",
    "empresasSolicitantes = pd.read_excel(\"../../data/empresas.xlsx\")"
   ]
  },
  {
   "cell_type": "code",
   "execution_count": 45,
   "metadata": {},
   "outputs": [],
   "source": [
    "#Filtrar:\n",
    "fiscalizacion = fiscalizacion[fiscalizacion[\"activity_status\"] == \"complete\"]\n",
    "fiscalizacion = fiscalizacion[fiscalizacion[\"tipo_obra\"] == \"ACERA\"]\n",
    "#CA1 : No es de CONTROL\n",
    "fiscalizacion = fiscalizacion[fiscalizacion[\"grupo_planificador\"] != \"CA1\"]"
   ]
  },
  {
   "cell_type": "code",
   "execution_count": 46,
   "metadata": {},
   "outputs": [],
   "source": [
    "#Renombrar valores\n",
    "fiscalizacion.loc[fiscalizacion['grupo_planificador'] == 'VE4', 'grupo_planificador'] = 'CO'\n",
    "fiscalizacion.loc[fiscalizacion['grupo_planificador'] == 'VE5', 'grupo_planificador'] = 'CC'\n",
    "fiscalizacion.loc[fiscalizacion['grupo_planificador'] == 'VE6', 'grupo_planificador'] = 'CD'\n",
    "fiscalizacion.loc[fiscalizacion['grupo_planificador'] == 'VE7', 'grupo_planificador'] = 'CM'\n",
    "\n",
    "# fiscalizacion.loc[fiscalizacion['estado_general'].isin(['A_DBE','C_PBE']), 'estado_general'] = '1'\n"
   ]
  },
  {
   "cell_type": "code",
   "execution_count": 47,
   "metadata": {},
   "outputs": [],
   "source": [
    "# 1 : Bien ejecutado\n",
    "# 0 : Mal Ejecutado\n",
    "fiscalizacion['output'] = fiscalizacion['estado_general'].apply(lambda x: 1 if x in ['A_DBE','C_PBE'] else 0)"
   ]
  },
  {
   "cell_type": "code",
   "execution_count": 48,
   "metadata": {},
   "outputs": [
    {
     "data": {
      "image/png": "[encoded data removed]",
      "text/plain": [
       "<Figure size 432x288 with 2 Axes>"
      ]
     },
     "metadata": {},
     "output_type": "display_data"
    }
   ],
   "source": [
    "fig, axes = plt.subplots(nrows=1,ncols=2)\n",
    "\n",
    "axes[0].pie(fiscalizacion[\"grupo_planificador\"].value_counts(),\n",
    "            labels = fiscalizacion[\"grupo_planificador\"].value_counts().index,\n",
    "            autopct='%1.1f%%',\n",
    "            textprops={'color':\"w\"});\n",
    "axes[1].pie(fiscalizacion[\"output\"].value_counts(),\n",
    "            labels = fiscalizacion[\"output\"].value_counts().index,\n",
    "            autopct='%1.1f%%',\n",
    "            textprops={'color':\"w\"});\n"
   ]
  },
  {
   "cell_type": "code",
   "execution_count": 49,
   "metadata": {},
   "outputs": [],
   "source": [
    "#Borrar columnas innecesarias\n",
    "fiscalizacion = fiscalizacion.drop([\"activitytype\",\n",
    "                                    \"streetaddress\",\n",
    "                                    \"estado_general\",\n",
    "                                    \"aid\",\n",
    "                                    \"activity_status\",\n",
    "                                    \"atime_of_assignment\",\n",
    "                                    \"ctime_delivered_end\",\n",
    "                                    \"atime_of_booking\",\n",
    "                                    \"mobileactaintima\",\n",
    "                                    \"mobileactacomproba\",\n",
    "                                    \"barrio\",\n",
    "                                    \"comuna\"],1)\n"
   ]
  },
  {
   "cell_type": "code",
   "execution_count": 50,
   "metadata": {},
   "outputs": [],
   "source": [
    "#Join con nombres de empresas contratistas normalizadas\n",
    "fiscalizacion = pd.merge(fiscalizacion, empresasContratistas, on='empresa_contratista', how='inner')\n",
    "fiscalizacion = fiscalizacion.drop(\"empresa_contratista\",1)"
   ]
  },
  {
   "cell_type": "code",
   "execution_count": 51,
   "metadata": {},
   "outputs": [],
   "source": [
    "#Selecciono columnas necesarias\n",
    "empresasSolicitantes = empresasSolicitantes.iloc[:,[2,3]]\n",
    "empresasSolicitantes.columns = [\"empresa_solicitante\",\"empresa_solicitante_normalizada\"]"
   ]
  },
  {
   "cell_type": "code",
   "execution_count": 52,
   "metadata": {},
   "outputs": [],
   "source": [
    "#Join con nombres de empresas solicitantes normalizadas\n",
    "fiscalizacion = pd.merge(fiscalizacion, empresasSolicitantes, on='empresa_solicitante', how='inner')\n",
    "fiscalizacion = fiscalizacion.drop(\"empresa_solicitante\",1)"
   ]
  },
  {
   "cell_type": "code",
   "execution_count": 53,
   "metadata": {},
   "outputs": [],
   "source": [
    "fiscalizacion[\"date\"] = pd.to_datetime(fiscalizacion[\"date\"])\n",
    "fiscalizacion[\"inicio_obra\"] = pd.to_datetime(fiscalizacion[\"inicio_obra\"])\n",
    "fiscalizacion[\"fin_obra\"] = pd.to_datetime(fiscalizacion[\"fin_obra\"])"
   ]
  },
  {
   "cell_type": "code",
   "execution_count": 54,
   "metadata": {},
   "outputs": [],
   "source": [
    "#Filtro lat y long erroneo\n",
    "fiscalizacion = fiscalizacion[fiscalizacion[\"longitude\"] != 0]\n",
    "fiscalizacion = fiscalizacion[fiscalizacion[\"latitude\"] != 0]\n",
    "\n",
    "fiscalizacion[\"latitude\"] ,fiscalizacion[\"longitude\"]  = np.where(fiscalizacion[\"latitude\"] > fiscalizacion[\"longitude\"],(fiscalizacion['latitude'],fiscalizacion['longitude']),(fiscalizacion['longitude'],fiscalizacion['latitude']))"
   ]
  },
  {
   "cell_type": "code",
   "execution_count": 55,
   "metadata": {},
   "outputs": [],
   "source": [
    "barrios = gpd.read_file(shp_barrio)"
   ]
  },
  {
   "cell_type": "code",
   "execution_count": 56,
   "metadata": {},
   "outputs": [],
   "source": [
    "#Join entre fiscalizacion con barrio , se obtienen barrios y comunas correctos.\n",
    "geometry = [Point(xy) for xy in zip(fiscalizacion[\"longitude\"],fiscalizacion[\"latitude\"])]\n",
    "fiscalizacion = gpd.GeoDataFrame(fiscalizacion, crs = {'init': 'epsg:4326'} , geometry=geometry)\n",
    "fiscalizacion = gpd.sjoin(fiscalizacion, barrios, op='within') "
   ]
  },
  {
   "cell_type": "code",
   "execution_count": 57,
   "metadata": {},
   "outputs": [],
   "source": [
    "#Dropeo columnas; mobilec03 toods los valoes en NaN\n",
    "fiscalizacion = fiscalizacion.drop([\"PERIMETRO\",\n",
    "                                    \"AREA\",\n",
    "                                    \"index_right\",\n",
    "                                    \"mobilec03\",\n",
    "                                    \"tipo_obra\",\n",
    "                                    \"mobileactasecuestro\"],1)"
   ]
  },
  {
   "cell_type": "code",
   "execution_count": 58,
   "metadata": {},
   "outputs": [],
   "source": [
    "fiscalizacion[\"longitude_3\"] = fiscalizacion[\"longitude\"].round(3)\n",
    "fiscalizacion[\"latitude_3\"] = fiscalizacion[\"latitude\"].round(3)"
   ]
  },
  {
   "cell_type": "code",
   "execution_count": 59,
   "metadata": {},
   "outputs": [],
   "source": [
    "#Mapa de puntos\n",
    "# fig,ax = plt.subplots(figsize = (10,10))\n",
    "# street_map.plot(ax = ax, alpha = 0.4)\n",
    "# geo_df[geo_df[\"grupo_planificador\"] == 'CO'].plot(ax = ax , color = 'blue' ,marker = \"o\",markersize = 20,label = \"CO\")\n",
    "# geo_df[geo_df[\"grupo_planificador\"] == 'CC'].plot(ax = ax , color = 'red' ,marker = \"^\",markersize = 20,label = \"CC\")\n",
    "# geo_df[geo_df[\"grupo_planificador\"] == 'CD'].plot(ax = ax , color = 'green' ,marker = \"^\",markersize = 20,label = \"CD\")\n",
    "# geo_df[geo_df[\"grupo_planificador\"] == 'CM'].plot(ax = ax , color = 'yellow' ,marker = \"^\",markersize = 20,label = \"CM\")\n",
    "# fiscalizacion.plot(ax = ax , color = 'blue' ,marker = \"^\",markersize = 20,label = \"C\")\n",
    "# plt.legend(prop = {\"size\" : 10 })"
   ]
  },
  {
   "cell_type": "code",
   "execution_count": 60,
   "metadata": {},
   "outputs": [],
   "source": [
    "#from folium.plugins import HeatMap"
   ]
  },
  {
   "cell_type": "code",
   "execution_count": 61,
   "metadata": {},
   "outputs": [],
   "source": [
    "#HeatMap\n",
    "#fisc_map = folium.Map(location=[\"-34.58818\", \"-58.39861\"], zoom_start=11)\n",
    "#heat_data = [[row['latitude'],row['longitude']] for index, row in fiscalizacion.iterrows()]\n",
    "#HeatMap(heat_data).add_to(fisc_map)\n",
    "#fisc_map"
   ]
  },
  {
   "cell_type": "code",
   "execution_count": 62,
   "metadata": {},
   "outputs": [],
   "source": [
    "#len(fiscalizacion)"
   ]
  },
  {
   "cell_type": "code",
   "execution_count": 63,
   "metadata": {},
   "outputs": [],
   "source": [
    "#filtro las filas duplicadas\n",
    "fiscalizacion = fiscalizacion[~fiscalizacion.duplicated(subset=None, keep='first')]"
   ]
  },
  {
   "cell_type": "code",
   "execution_count": 64,
   "metadata": {},
   "outputs": [],
   "source": [
    "#divido por grupo planificador(instancia de control)\n",
    "fiscalizacion_CO = fiscalizacion[fiscalizacion[\"grupo_planificador\"] == \"CO\"]\n",
    "fiscalizacion_CC = fiscalizacion[fiscalizacion[\"grupo_planificador\"] == \"CC\"]\n",
    "fiscalizacion_CD = fiscalizacion[fiscalizacion[\"grupo_planificador\"] == \"CD\"]\n",
    "fiscalizacion_CM = fiscalizacion[fiscalizacion[\"grupo_planificador\"] == \"CM\"]"
   ]
  },
  {
   "cell_type": "code",
   "execution_count": 65,
   "metadata": {},
   "outputs": [],
   "source": [
    "#filtro aquellos apptnumbers duplicados por grupo panificador, me quedo con date max.\n",
    "fiscalizacion_CO = fiscalizacion_CO[fiscalizacion_CO[\"date\"] == fiscalizacion_CO.groupby('apptnumber')['date'].transform('max')]\n",
    "fiscalizacion_CC = fiscalizacion_CC[fiscalizacion_CC[\"date\"] == fiscalizacion_CC.groupby('apptnumber')['date'].transform('max')]\n",
    "fiscalizacion_CD = fiscalizacion_CD[fiscalizacion_CD[\"date\"] == fiscalizacion_CD.groupby('apptnumber')['date'].transform('max')]\n",
    "fiscalizacion_CM = fiscalizacion_CM[fiscalizacion_CM[\"date\"] == fiscalizacion_CM.groupby('apptnumber')['date'].transform('max')]"
   ]
  },
  {
   "cell_type": "code",
   "execution_count": 66,
   "metadata": {},
   "outputs": [],
   "source": [
    "#En caso de hubiese date duplicados,me quedo con el primero.\n",
    "fiscalizacion_CO = fiscalizacion_CO[~fiscalizacion_CO.duplicated(subset=\"apptnumber\", keep = \"first\")]\n",
    "fiscalizacion_CC = fiscalizacion_CC[~fiscalizacion_CC.duplicated(subset=\"apptnumber\", keep = \"first\")]\n",
    "fiscalizacion_CD = fiscalizacion_CD[~fiscalizacion_CD.duplicated(subset=\"apptnumber\", keep = \"first\")]\n",
    "fiscalizacion_CM = fiscalizacion_CM[~fiscalizacion_CM.duplicated(subset=\"apptnumber\", keep = \"first\")]"
   ]
  },
  {
   "cell_type": "code",
   "execution_count": 67,
   "metadata": {},
   "outputs": [],
   "source": [
    "# len(fiscalizacion_CO) + len(fiscalizacion_CC) + len(fiscalizacion_CD) + len(fiscalizacion_CM) "
   ]
  },
  {
   "cell_type": "code",
   "execution_count": 68,
   "metadata": {},
   "outputs": [],
   "source": [
    "# 2da verion de profile de fiscalizacion pre-procesada\n",
    "# import pandas_profiling as pdf\n",
    "\n",
    "# outputPath = \"../../output/pandas profiling/\"\n",
    "\n",
    "# aux = fiscalizacion_CO.append([fiscalizacion_CC, fiscalizacion_CD,fiscalizacion_CM])\n",
    "# aux = aux.drop(\"geometry\",1)\n",
    "# aux = pd.DataFrame(aux.loc[:,~aux.isna().all()])\n",
    "# aux1 = aux.profile_report()\n",
    "# aux1.to_file(output_file = outputPath + \"fiscProfile2.html\")"
   ]
  },
  {
   "cell_type": "code",
   "execution_count": 69,
   "metadata": {},
   "outputs": [],
   "source": [
    "index = [\n",
    "\"activitynumber\",\n",
    "\"activitywotype\",\n",
    "\"apptnumber\",\n",
    "\"date\",\n",
    "\"duracion\",\n",
    "\"gp_nuevo\",\n",
    "\"mobilec01\",\n",
    "\"mobilec02\",\n",
    "\"mobilec06\",\n",
    "\"mobilec07\",\n",
    "\"mobilec08\",\n",
    "\"mobilec09\",\n",
    "\"mobilec10\",\n",
    "\"mobilec11\",\n",
    "\"mobilec12\",\n",
    "\"mobilec13\",\n",
    "\"mobilec14\",\n",
    "\"mobilec15\",\n",
    "\"mobilec16\",\n",
    "\"mobilec17\",\n",
    "\"mobilec18\",\n",
    "\"mobilec20\",\n",
    "\"mobilec21\",\n",
    "\"mobilec22\",\n",
    "\"mobilec23\",\n",
    "\"mobilec24\",\n",
    "\"mobilec25\",\n",
    "\"mobilec26\",\n",
    "\"mobilec27\",\n",
    "\"mobilec28\",\n",
    "\"mobilec29\",\n",
    "\"mobilec30\",\n",
    "\"mobilec31\",\n",
    "\"mobilec32\",\n",
    "\"mobilec33\",\n",
    "\"mobilec34\",\n",
    "\"mobiledesnivel\",\n",
    "\"mobileseveridad\",\n",
    "\"no_realizado\",\n",
    "\"obra_ancho\",\n",
    "\"obra_largo\",\n",
    "\"obra_profundidad\",\n",
    "\"obra_superficie_m2\",\n",
    "\"obra_volumen_m3\",\n",
    "\"output\",\n",
    "\"resource_name\",\n",
    "\"severidad\",\n",
    "\"status_usuario\",\n",
    "\"traveltime\"]"
   ]
  },
  {
   "cell_type": "code",
   "execution_count": 70,
   "metadata": {},
   "outputs": [],
   "source": [
    "fiscalizacion_CC = fiscalizacion_CC[index]\n",
    "fiscalizacion_CD = fiscalizacion_CD[index]\n",
    "fiscalizacion_CM = fiscalizacion_CM[index]"
   ]
  },
  {
   "cell_type": "code",
   "execution_count": 71,
   "metadata": {},
   "outputs": [],
   "source": [
    "fiscalizacion_CO.columns = [ 'f_CO_' + str(col)  for col in fiscalizacion_CO.columns]\n",
    "fiscalizacion_CC.columns = [ 'f_CC_' + str(col)  for col in fiscalizacion_CC.columns]\n",
    "fiscalizacion_CD.columns = [ 'f_CD_' + str(col)  for col in fiscalizacion_CD.columns]\n",
    "fiscalizacion_CM.columns = [ 'f_CM_' + str(col)  for col in fiscalizacion_CM.columns]"
   ]
  },
  {
   "cell_type": "code",
   "execution_count": 72,
   "metadata": {},
   "outputs": [],
   "source": [
    "fisc1 = pd.merge(fiscalizacion_CO,\n",
    "                 fiscalizacion_CC,\n",
    "                 left_on = ['f_CO_apptnumber'], \n",
    "                 right_on = ['f_CC_apptnumber'],\n",
    "                 how = 'inner')"
   ]
  },
  {
   "cell_type": "code",
   "execution_count": 73,
   "metadata": {},
   "outputs": [],
   "source": [
    "        fiscalizacion_final = pd.merge(fisc1,\n",
    "                 fiscalizacion_CD,\n",
    "                 left_on = ['f_CO_apptnumber'], \n",
    "                 right_on = ['f_CD_apptnumber'],\n",
    "                 how = 'inner')"
   ]
  },
  {
   "cell_type": "code",
   "execution_count": 74,
   "metadata": {},
   "outputs": [],
   "source": [
    "fiscalizacion_final = fiscalizacion_final[fiscalizacion_final[\"f_CC_output\"] == 0]"
   ]
  },
  {
   "cell_type": "code",
   "execution_count": 75,
   "metadata": {},
   "outputs": [
    {
     "data": {
      "text/plain": [
       "0    0.646993\n",
       "1    0.353007\n",
       "Name: f_CD_output, dtype: float64"
      ]
     },
     "execution_count": 75,
     "metadata": {},
     "output_type": "execute_result"
    }
   ],
   "source": [
    "fiscalizacion_final[\"f_CD_output\"].value_counts(normalize=True)"
   ]
  },
  {
   "cell_type": "code",
   "execution_count": 76,
   "metadata": {},
   "outputs": [],
   "source": [
    "corrMatrix = fiscalizacion_final.corr()\n",
    "corrMatrixSort = (corrMatrix.where(np.triu(np.ones(corrMatrix.shape), k=1).astype(np.bool))\n",
    "                 .stack()\n",
    "                 .sort_values(ascending=False))\n",
    "df_corrMatrixSort = pd.DataFrame(corrMatrixSort)\n",
    "df_corrMatrixSort = df_corrMatrixSort[df_corrMatrixSort.iloc[:,0] > 0.9]"
   ]
  },
  {
   "cell_type": "code",
   "execution_count": 77,
   "metadata": {},
   "outputs": [],
   "source": [
    "#Dropeo columnas correlacionadas\n",
    "fiscalizacion_final = fiscalizacion_final.drop([\"f_CO_grupo_planificador\",\n",
    "                                                \"f_CO_apptnumber\",\n",
    "                                                \"f_CC_apptnumber\",\n",
    "                                                \"f_CO_geometry\",\n",
    "                                                \"f_CC_output\",\n",
    "                                                \"f_CD_apptnumber\",\n",
    "                                                \"f_CD_obra_largo\",\n",
    "                                                \"f_CD_obra_ancho\",\n",
    "                                                \"f_CD_obra_profundidad\",\n",
    "                                                \"f_CD_obra_superficie_m2\",\n",
    "                                                \"f_CD_obra_volumen_m3\",\n",
    "                                                \"f_CC_obra_volumen_m3\",\n",
    "                                                \"f_CO_longitude\",\n",
    "                                                \"f_CC_obra_profundidad\",\n",
    "                                                \"f_CO_latitude\",\n",
    "                                                \"f_CC_obra_superficie_m2\",\n",
    "                                                \"f_CC_obra_largo\",\n",
    "                                                \"f_CC_obra_ancho\",\n",
    "                                                \"f_CD_duracion\",\n",
    "                                                \"f_CD_duracion\",\n",
    "                                                \"f_CO_activitywotype\",\n",
    "                                                \"f_CD_activitywotype\",\n",
    "                                                \"f_CC_activitywotype\"],1)"
   ]
  },
  {
   "cell_type": "code",
   "execution_count": 89,
   "metadata": {},
   "outputs": [
    {
     "ename": "OutOfBoundsDatetime",
     "evalue": "Out of bounds nanosecond timestamp: 1-01-07 00:00:00",
     "output_type": "error",
     "traceback": [
      "\u001b[1;31m---------------------------------------------------------------------------\u001b[0m",
      "\u001b[1;31mTypeError\u001b[0m                                 Traceback (most recent call last)",
      "\u001b[1;32m~\\Anaconda3\\lib\\site-packages\\pandas\\core\\arrays\\datetimes.py\u001b[0m in \u001b[0;36mobjects_to_datetime64ns\u001b[1;34m(data, dayfirst, yearfirst, utc, errors, require_iso8601, allow_object)\u001b[0m\n\u001b[0;32m   1978\u001b[0m         \u001b[1;32mtry\u001b[0m\u001b[1;33m:\u001b[0m\u001b[1;33m\u001b[0m\u001b[1;33m\u001b[0m\u001b[0m\n\u001b[1;32m-> 1979\u001b[1;33m             \u001b[0mvalues\u001b[0m\u001b[1;33m,\u001b[0m \u001b[0mtz_parsed\u001b[0m \u001b[1;33m=\u001b[0m \u001b[0mconversion\u001b[0m\u001b[1;33m.\u001b[0m\u001b[0mdatetime_to_datetime64\u001b[0m\u001b[1;33m(\u001b[0m\u001b[0mdata\u001b[0m\u001b[1;33m)\u001b[0m\u001b[1;33m\u001b[0m\u001b[1;33m\u001b[0m\u001b[0m\n\u001b[0m\u001b[0;32m   1980\u001b[0m             \u001b[1;31m# If tzaware, these values represent unix timestamps, so we\u001b[0m\u001b[1;33m\u001b[0m\u001b[1;33m\u001b[0m\u001b[1;33m\u001b[0m\u001b[0m\n",
      "\u001b[1;32mpandas\\_libs\\tslibs\\conversion.pyx\u001b[0m in \u001b[0;36mpandas._libs.tslibs.conversion.datetime_to_datetime64\u001b[1;34m()\u001b[0m\n",
      "\u001b[1;31mTypeError\u001b[0m: Unrecognized value type: <class 'str'>",
      "\nDuring handling of the above exception, another exception occurred:\n",
      "\u001b[1;31mOutOfBoundsDatetime\u001b[0m                       Traceback (most recent call last)",
      "\u001b[1;32m<ipython-input-89-c5f9e9449fe2>\u001b[0m in \u001b[0;36m<module>\u001b[1;34m\u001b[0m\n\u001b[0;32m     24\u001b[0m \u001b[0mfiscalizacion_final\u001b[0m\u001b[1;33m[\u001b[0m\u001b[1;34m'f_CO_inicio__day'\u001b[0m\u001b[1;33m]\u001b[0m \u001b[1;33m=\u001b[0m \u001b[0mfiscalizacion_final\u001b[0m\u001b[1;33m[\u001b[0m\u001b[1;34m'f_CO_inicio_obra'\u001b[0m\u001b[1;33m]\u001b[0m\u001b[1;33m.\u001b[0m\u001b[0mdt\u001b[0m\u001b[1;33m.\u001b[0m\u001b[0mday\u001b[0m\u001b[1;33m\u001b[0m\u001b[1;33m\u001b[0m\u001b[0m\n\u001b[0;32m     25\u001b[0m \u001b[0mfiscalizacion_final\u001b[0m\u001b[1;33m[\u001b[0m\u001b[1;34m'f_CO_inicio_quarter'\u001b[0m\u001b[1;33m]\u001b[0m \u001b[1;33m=\u001b[0m \u001b[0mfiscalizacion_final\u001b[0m\u001b[1;33m[\u001b[0m\u001b[1;34m'f_CO_inicio_obra'\u001b[0m\u001b[1;33m]\u001b[0m\u001b[1;33m.\u001b[0m\u001b[0mdt\u001b[0m\u001b[1;33m.\u001b[0m\u001b[0mquarter\u001b[0m\u001b[1;33m\u001b[0m\u001b[1;33m\u001b[0m\u001b[0m\n\u001b[1;32m---> 26\u001b[1;33m \u001b[0mfiscalizacion_final\u001b[0m\u001b[1;33m[\u001b[0m\u001b[1;34m'f_CO_inicio_weekend'\u001b[0m\u001b[1;33m]\u001b[0m \u001b[1;33m=\u001b[0m \u001b[0mnp\u001b[0m\u001b[1;33m.\u001b[0m\u001b[0mwhere\u001b[0m\u001b[1;33m(\u001b[0m\u001b[0mfiscalizacion_final\u001b[0m\u001b[1;33m[\u001b[0m\u001b[1;34m'f_CO_inicio_obra'\u001b[0m\u001b[1;33m]\u001b[0m\u001b[1;33m.\u001b[0m\u001b[0misin\u001b[0m\u001b[1;33m(\u001b[0m\u001b[1;33m[\u001b[0m\u001b[1;34m'Sunday'\u001b[0m\u001b[1;33m,\u001b[0m\u001b[1;34m'Saturday'\u001b[0m\u001b[1;33m]\u001b[0m\u001b[1;33m)\u001b[0m\u001b[1;33m,\u001b[0m\u001b[1;36m1\u001b[0m\u001b[1;33m,\u001b[0m\u001b[1;36m0\u001b[0m\u001b[1;33m)\u001b[0m\u001b[1;33m\u001b[0m\u001b[1;33m\u001b[0m\u001b[0m\n\u001b[0m\u001b[0;32m     27\u001b[0m \u001b[1;33m\u001b[0m\u001b[0m\n\u001b[0;32m     28\u001b[0m \u001b[1;31m#fiscalizacion_final['f_CO_fin_year'] = fiscalizacion_final['f_CO_fin_obra'].dt.year\u001b[0m\u001b[1;33m\u001b[0m\u001b[1;33m\u001b[0m\u001b[1;33m\u001b[0m\u001b[0m\n",
      "\u001b[1;32m~\\Anaconda3\\lib\\site-packages\\pandas\\core\\series.py\u001b[0m in \u001b[0;36misin\u001b[1;34m(self, values)\u001b[0m\n\u001b[0;32m   4509\u001b[0m         \u001b[0mName\u001b[0m\u001b[1;33m:\u001b[0m \u001b[0manimal\u001b[0m\u001b[1;33m,\u001b[0m \u001b[0mdtype\u001b[0m\u001b[1;33m:\u001b[0m \u001b[0mbool\u001b[0m\u001b[1;33m\u001b[0m\u001b[1;33m\u001b[0m\u001b[0m\n\u001b[0;32m   4510\u001b[0m         \"\"\"\n\u001b[1;32m-> 4511\u001b[1;33m         \u001b[0mresult\u001b[0m \u001b[1;33m=\u001b[0m \u001b[0malgorithms\u001b[0m\u001b[1;33m.\u001b[0m\u001b[0misin\u001b[0m\u001b[1;33m(\u001b[0m\u001b[0mself\u001b[0m\u001b[1;33m,\u001b[0m \u001b[0mvalues\u001b[0m\u001b[1;33m)\u001b[0m\u001b[1;33m\u001b[0m\u001b[1;33m\u001b[0m\u001b[0m\n\u001b[0m\u001b[0;32m   4512\u001b[0m         \u001b[1;32mreturn\u001b[0m \u001b[0mself\u001b[0m\u001b[1;33m.\u001b[0m\u001b[0m_constructor\u001b[0m\u001b[1;33m(\u001b[0m\u001b[0mresult\u001b[0m\u001b[1;33m,\u001b[0m \u001b[0mindex\u001b[0m\u001b[1;33m=\u001b[0m\u001b[0mself\u001b[0m\u001b[1;33m.\u001b[0m\u001b[0mindex\u001b[0m\u001b[1;33m)\u001b[0m\u001b[1;33m.\u001b[0m\u001b[0m__finalize__\u001b[0m\u001b[1;33m(\u001b[0m\u001b[0mself\u001b[0m\u001b[1;33m)\u001b[0m\u001b[1;33m\u001b[0m\u001b[1;33m\u001b[0m\u001b[0m\n\u001b[0;32m   4513\u001b[0m \u001b[1;33m\u001b[0m\u001b[0m\n",
      "\u001b[1;32m~\\Anaconda3\\lib\\site-packages\\pandas\\core\\algorithms.py\u001b[0m in \u001b[0;36misin\u001b[1;34m(comps, values)\u001b[0m\n\u001b[0;32m    451\u001b[0m \u001b[1;33m\u001b[0m\u001b[0m\n\u001b[0;32m    452\u001b[0m     \u001b[0mcomps\u001b[0m\u001b[1;33m,\u001b[0m \u001b[0mdtype\u001b[0m\u001b[1;33m,\u001b[0m \u001b[0m_\u001b[0m \u001b[1;33m=\u001b[0m \u001b[0m_ensure_data\u001b[0m\u001b[1;33m(\u001b[0m\u001b[0mcomps\u001b[0m\u001b[1;33m)\u001b[0m\u001b[1;33m\u001b[0m\u001b[1;33m\u001b[0m\u001b[0m\n\u001b[1;32m--> 453\u001b[1;33m     \u001b[0mvalues\u001b[0m\u001b[1;33m,\u001b[0m \u001b[0m_\u001b[0m\u001b[1;33m,\u001b[0m \u001b[0m_\u001b[0m \u001b[1;33m=\u001b[0m \u001b[0m_ensure_data\u001b[0m\u001b[1;33m(\u001b[0m\u001b[0mvalues\u001b[0m\u001b[1;33m,\u001b[0m \u001b[0mdtype\u001b[0m\u001b[1;33m=\u001b[0m\u001b[0mdtype\u001b[0m\u001b[1;33m)\u001b[0m\u001b[1;33m\u001b[0m\u001b[1;33m\u001b[0m\u001b[0m\n\u001b[0m\u001b[0;32m    454\u001b[0m \u001b[1;33m\u001b[0m\u001b[0m\n\u001b[0;32m    455\u001b[0m     \u001b[1;31m# faster for larger cases to use np.in1d\u001b[0m\u001b[1;33m\u001b[0m\u001b[1;33m\u001b[0m\u001b[1;33m\u001b[0m\u001b[0m\n",
      "\u001b[1;32m~\\Anaconda3\\lib\\site-packages\\pandas\\core\\algorithms.py\u001b[0m in \u001b[0;36m_ensure_data\u001b[1;34m(values, dtype)\u001b[0m\n\u001b[0;32m    142\u001b[0m             \u001b[1;32mfrom\u001b[0m \u001b[0mpandas\u001b[0m \u001b[1;32mimport\u001b[0m \u001b[0mDatetimeIndex\u001b[0m\u001b[1;33m\u001b[0m\u001b[1;33m\u001b[0m\u001b[0m\n\u001b[0;32m    143\u001b[0m \u001b[1;33m\u001b[0m\u001b[0m\n\u001b[1;32m--> 144\u001b[1;33m             \u001b[0mvalues\u001b[0m \u001b[1;33m=\u001b[0m \u001b[0mDatetimeIndex\u001b[0m\u001b[1;33m(\u001b[0m\u001b[0mvalues\u001b[0m\u001b[1;33m)\u001b[0m\u001b[1;33m\u001b[0m\u001b[1;33m\u001b[0m\u001b[0m\n\u001b[0m\u001b[0;32m    145\u001b[0m             \u001b[0mdtype\u001b[0m \u001b[1;33m=\u001b[0m \u001b[0mvalues\u001b[0m\u001b[1;33m.\u001b[0m\u001b[0mdtype\u001b[0m\u001b[1;33m\u001b[0m\u001b[1;33m\u001b[0m\u001b[0m\n\u001b[0;32m    146\u001b[0m \u001b[1;33m\u001b[0m\u001b[0m\n",
      "\u001b[1;32m~\\Anaconda3\\lib\\site-packages\\pandas\\core\\indexes\\datetimes.py\u001b[0m in \u001b[0;36m__new__\u001b[1;34m(cls, data, freq, start, end, periods, tz, normalize, closed, ambiguous, dayfirst, yearfirst, dtype, copy, name, verify_integrity)\u001b[0m\n\u001b[0;32m    332\u001b[0m             \u001b[0myearfirst\u001b[0m\u001b[1;33m=\u001b[0m\u001b[0myearfirst\u001b[0m\u001b[1;33m,\u001b[0m\u001b[1;33m\u001b[0m\u001b[1;33m\u001b[0m\u001b[0m\n\u001b[0;32m    333\u001b[0m             \u001b[0mambiguous\u001b[0m\u001b[1;33m=\u001b[0m\u001b[0mambiguous\u001b[0m\u001b[1;33m,\u001b[0m\u001b[1;33m\u001b[0m\u001b[1;33m\u001b[0m\u001b[0m\n\u001b[1;32m--> 334\u001b[1;33m             \u001b[0mint_as_wall_time\u001b[0m\u001b[1;33m=\u001b[0m\u001b[1;32mTrue\u001b[0m\u001b[1;33m,\u001b[0m\u001b[1;33m\u001b[0m\u001b[1;33m\u001b[0m\u001b[0m\n\u001b[0m\u001b[0;32m    335\u001b[0m         )\n\u001b[0;32m    336\u001b[0m \u001b[1;33m\u001b[0m\u001b[0m\n",
      "\u001b[1;32m~\\Anaconda3\\lib\\site-packages\\pandas\\core\\arrays\\datetimes.py\u001b[0m in \u001b[0;36m_from_sequence\u001b[1;34m(cls, data, dtype, copy, tz, freq, dayfirst, yearfirst, ambiguous, int_as_wall_time)\u001b[0m\n\u001b[0;32m    444\u001b[0m             \u001b[0myearfirst\u001b[0m\u001b[1;33m=\u001b[0m\u001b[0myearfirst\u001b[0m\u001b[1;33m,\u001b[0m\u001b[1;33m\u001b[0m\u001b[1;33m\u001b[0m\u001b[0m\n\u001b[0;32m    445\u001b[0m             \u001b[0mambiguous\u001b[0m\u001b[1;33m=\u001b[0m\u001b[0mambiguous\u001b[0m\u001b[1;33m,\u001b[0m\u001b[1;33m\u001b[0m\u001b[1;33m\u001b[0m\u001b[0m\n\u001b[1;32m--> 446\u001b[1;33m             \u001b[0mint_as_wall_time\u001b[0m\u001b[1;33m=\u001b[0m\u001b[0mint_as_wall_time\u001b[0m\u001b[1;33m,\u001b[0m\u001b[1;33m\u001b[0m\u001b[1;33m\u001b[0m\u001b[0m\n\u001b[0m\u001b[0;32m    447\u001b[0m         )\n\u001b[0;32m    448\u001b[0m \u001b[1;33m\u001b[0m\u001b[0m\n",
      "\u001b[1;32m~\\Anaconda3\\lib\\site-packages\\pandas\\core\\arrays\\datetimes.py\u001b[0m in \u001b[0;36msequence_to_dt64ns\u001b[1;34m(data, dtype, copy, tz, dayfirst, yearfirst, ambiguous, int_as_wall_time)\u001b[0m\n\u001b[0;32m   1864\u001b[0m             \u001b[1;31m#  or M8[ns] to denote wall times\u001b[0m\u001b[1;33m\u001b[0m\u001b[1;33m\u001b[0m\u001b[1;33m\u001b[0m\u001b[0m\n\u001b[0;32m   1865\u001b[0m             data, inferred_tz = objects_to_datetime64ns(\n\u001b[1;32m-> 1866\u001b[1;33m                 \u001b[0mdata\u001b[0m\u001b[1;33m,\u001b[0m \u001b[0mdayfirst\u001b[0m\u001b[1;33m=\u001b[0m\u001b[0mdayfirst\u001b[0m\u001b[1;33m,\u001b[0m \u001b[0myearfirst\u001b[0m\u001b[1;33m=\u001b[0m\u001b[0myearfirst\u001b[0m\u001b[1;33m\u001b[0m\u001b[1;33m\u001b[0m\u001b[0m\n\u001b[0m\u001b[0;32m   1867\u001b[0m             )\n\u001b[0;32m   1868\u001b[0m             \u001b[0mtz\u001b[0m \u001b[1;33m=\u001b[0m \u001b[0mmaybe_infer_tz\u001b[0m\u001b[1;33m(\u001b[0m\u001b[0mtz\u001b[0m\u001b[1;33m,\u001b[0m \u001b[0minferred_tz\u001b[0m\u001b[1;33m)\u001b[0m\u001b[1;33m\u001b[0m\u001b[1;33m\u001b[0m\u001b[0m\n",
      "\u001b[1;32m~\\Anaconda3\\lib\\site-packages\\pandas\\core\\arrays\\datetimes.py\u001b[0m in \u001b[0;36mobjects_to_datetime64ns\u001b[1;34m(data, dayfirst, yearfirst, utc, errors, require_iso8601, allow_object)\u001b[0m\n\u001b[0;32m   1982\u001b[0m             \u001b[1;32mreturn\u001b[0m \u001b[0mvalues\u001b[0m\u001b[1;33m.\u001b[0m\u001b[0mview\u001b[0m\u001b[1;33m(\u001b[0m\u001b[1;34m\"i8\"\u001b[0m\u001b[1;33m)\u001b[0m\u001b[1;33m,\u001b[0m \u001b[0mtz_parsed\u001b[0m\u001b[1;33m\u001b[0m\u001b[1;33m\u001b[0m\u001b[0m\n\u001b[0;32m   1983\u001b[0m         \u001b[1;32mexcept\u001b[0m \u001b[1;33m(\u001b[0m\u001b[0mValueError\u001b[0m\u001b[1;33m,\u001b[0m \u001b[0mTypeError\u001b[0m\u001b[1;33m)\u001b[0m\u001b[1;33m:\u001b[0m\u001b[1;33m\u001b[0m\u001b[1;33m\u001b[0m\u001b[0m\n\u001b[1;32m-> 1984\u001b[1;33m             \u001b[1;32mraise\u001b[0m \u001b[0me\u001b[0m\u001b[1;33m\u001b[0m\u001b[1;33m\u001b[0m\u001b[0m\n\u001b[0m\u001b[0;32m   1985\u001b[0m \u001b[1;33m\u001b[0m\u001b[0m\n\u001b[0;32m   1986\u001b[0m     \u001b[1;32mif\u001b[0m \u001b[0mtz_parsed\u001b[0m \u001b[1;32mis\u001b[0m \u001b[1;32mnot\u001b[0m \u001b[1;32mNone\u001b[0m\u001b[1;33m:\u001b[0m\u001b[1;33m\u001b[0m\u001b[1;33m\u001b[0m\u001b[0m\n",
      "\u001b[1;32m~\\Anaconda3\\lib\\site-packages\\pandas\\core\\arrays\\datetimes.py\u001b[0m in \u001b[0;36mobjects_to_datetime64ns\u001b[1;34m(data, dayfirst, yearfirst, utc, errors, require_iso8601, allow_object)\u001b[0m\n\u001b[0;32m   1973\u001b[0m             \u001b[0mdayfirst\u001b[0m\u001b[1;33m=\u001b[0m\u001b[0mdayfirst\u001b[0m\u001b[1;33m,\u001b[0m\u001b[1;33m\u001b[0m\u001b[1;33m\u001b[0m\u001b[0m\n\u001b[0;32m   1974\u001b[0m             \u001b[0myearfirst\u001b[0m\u001b[1;33m=\u001b[0m\u001b[0myearfirst\u001b[0m\u001b[1;33m,\u001b[0m\u001b[1;33m\u001b[0m\u001b[1;33m\u001b[0m\u001b[0m\n\u001b[1;32m-> 1975\u001b[1;33m             \u001b[0mrequire_iso8601\u001b[0m\u001b[1;33m=\u001b[0m\u001b[0mrequire_iso8601\u001b[0m\u001b[1;33m,\u001b[0m\u001b[1;33m\u001b[0m\u001b[1;33m\u001b[0m\u001b[0m\n\u001b[0m\u001b[0;32m   1976\u001b[0m         )\n\u001b[0;32m   1977\u001b[0m     \u001b[1;32mexcept\u001b[0m \u001b[0mValueError\u001b[0m \u001b[1;32mas\u001b[0m \u001b[0me\u001b[0m\u001b[1;33m:\u001b[0m\u001b[1;33m\u001b[0m\u001b[1;33m\u001b[0m\u001b[0m\n",
      "\u001b[1;32mpandas\\_libs\\tslib.pyx\u001b[0m in \u001b[0;36mpandas._libs.tslib.array_to_datetime\u001b[1;34m()\u001b[0m\n",
      "\u001b[1;32mpandas\\_libs\\tslib.pyx\u001b[0m in \u001b[0;36mpandas._libs.tslib.array_to_datetime\u001b[1;34m()\u001b[0m\n",
      "\u001b[1;32mpandas\\_libs\\tslib.pyx\u001b[0m in \u001b[0;36mpandas._libs.tslib.array_to_datetime\u001b[1;34m()\u001b[0m\n",
      "\u001b[1;32mpandas\\_libs\\tslib.pyx\u001b[0m in \u001b[0;36mpandas._libs.tslib.array_to_datetime\u001b[1;34m()\u001b[0m\n",
      "\u001b[1;32mpandas\\_libs\\tslibs\\conversion.pyx\u001b[0m in \u001b[0;36mpandas._libs.tslibs.conversion.convert_datetime_to_tsobject\u001b[1;34m()\u001b[0m\n",
      "\u001b[1;32mpandas\\_libs\\tslibs\\np_datetime.pyx\u001b[0m in \u001b[0;36mpandas._libs.tslibs.np_datetime.check_dts_bounds\u001b[1;34m()\u001b[0m\n",
      "\u001b[1;31mOutOfBoundsDatetime\u001b[0m: Out of bounds nanosecond timestamp: 1-01-07 00:00:00"
     ]
    }
   ],
   "source": [
    "#fiscalizacion_final['f_CO_year'] = fiscalizacion_final['f_CO_date'].dt.year\n",
    "fiscalizacion_final['f_CO_month'] = fiscalizacion_final['f_CO_date'].dt.month\n",
    "fiscalizacion_final['f_CO_day_of_week'] = fiscalizacion_final['f_CO_date'].dt.day_name()\n",
    "fiscalizacion_final['f_CO_day'] = fiscalizacion_final['f_CO_date'].dt.day\n",
    "fiscalizacion_final['f_CO_quarter'] = fiscalizacion_final['f_CO_date'].dt.quarter\n",
    "fiscalizacion_final['f_CO_is_weekend'] = np.where(fiscalizacion_final['f_CO_day_of_week'].isin(['Sunday','Saturday']),1,0)\n",
    "\n",
    "#fiscalizacion_final['f_CC_year'] = fiscalizacion_final['f_CC_date'].dt.year\n",
    "fiscalizacion_final['f_CC_month'] = fiscalizacion_final['f_CC_date'].dt.month\n",
    "fiscalizacion_final['f_CC_day_of_week'] = fiscalizacion_final['f_CC_date'].dt.day_name()\n",
    "fiscalizacion_final['f_CC_day'] = fiscalizacion_final['f_CC_date'].dt.day\n",
    "fiscalizacion_final['f_CC_quarter'] = fiscalizacion_final['f_CC_date'].dt.quarter\n",
    "fiscalizacion_final['f_CC_is_weekend'] = np.where(fiscalizacion_final['f_CC_day_of_week'].isin(['Sunday','Saturday']),1,0)\n",
    "\n",
    "#fiscalizacion_final['f_CD_year'] = fiscalizacion_final['f_CD_date'].dt.year\n",
    "fiscalizacion_final['f_CD_month'] = fiscalizacion_final['f_CD_date'].dt.month\n",
    "fiscalizacion_final['f_CD_day_of_week'] = fiscalizacion_final['f_CD_date'].dt.day_name()\n",
    "fiscalizacion_final['f_CD_day'] = fiscalizacion_final['f_CD_date'].dt.day\n",
    "fiscalizacion_final['f_CD_quarter'] = fiscalizacion_final['f_CD_date'].dt.quarter\n",
    "fiscalizacion_final['f_CD_is_weekend'] = np.where(fiscalizacion_final['f_CD_day_of_week'].isin(['Sunday','Saturday']),1,0)\n",
    "\n",
    "#fiscalizacion_final['f_CO_inicio_year'] = fiscalizacion_final['f_CO_inicio_obra'].dt.year\n",
    "fiscalizacion_final['f_CO_inicio_month'] = fiscalizacion_final['f_CO_inicio_obra'].dt.month\n",
    "fiscalizacion_final['f_CO_inicio_day'] = fiscalizacion_final['f_CO_inicio_obra'].dt.day\n",
    "fiscalizacion_final['f_CO_inicio_quarter'] = fiscalizacion_final['f_CO_inicio_obra'].dt.quarter\n",
    "fiscalizacion_final['f_CO_inicio_day_of_week'] = fiscalizacion_final['f_CO_inicio_obra'].dt.day_name()\n",
    "fiscalizacion_final['f_CO_inicio_weekend'] = np.where(fiscalizacion_final['f_CO_inicio_day_of_week'].isin(['Sunday','Saturday']),1,0)\n",
    "\n",
    "#fiscalizacion_final['f_CO_fin_year'] = fiscalizacion_final['f_CO_fin_obra'].dt.year\n",
    "fiscalizacion_final['f_CO_fin_month'] = fiscalizacion_final['f_CO_fin_obra'].dt.month\n",
    "fiscalizacion_final['f_CO_fin_day'] = fiscalizacion_final['f_CO_fin_obra'].dt.day\n",
    "fiscalizacion_final['f_CO_fin_quarter'] = fiscalizacion_final['f_CO_fin_obra'].dt.quarter\n",
    "fiscalizacion_final['f_CO_fin_day_of_week'] = fiscalizacion_final['f_CO_fin_obra'].dt.day_name()\n",
    "fiscalizacion_final['f_CO_fin_weekend'] = np.where(fiscalizacion_final['f_CO_fin_day_of_week'].isin(['Sunday','Saturday']),1,0)"
   ]
  },
  {
   "cell_type": "code",
   "execution_count": null,
   "metadata": {},
   "outputs": [],
   "source": [
    "fiscalizacion_final = pd.get_dummies(fiscalizacion_final, columns=['f_CO_clase_aviso',\n",
    "                                            'f_CO_status_usuario',\n",
    "                                            'f_CO_resource_name',\n",
    "                                            'f_CO_empresa_con_normalizada',\n",
    "                                            'f_CO_empresa_solicitante_normalizada',\n",
    "                                            'f_CO_BARRIO',\n",
    "                                            'f_CO_COMUNA',\n",
    "                                            'f_CC_status_usuario',\n",
    "                                            'f_CD_status_usuario',\n",
    "                                            'f_CO_year',\n",
    "                                            'f_CO_month',\n",
    "                                            'f_CO_day_of_week',\n",
    "                                            'f_CC_year',\n",
    "                                            'f_CC_month',\n",
    "                                            'f_CC_day_of_week',\n",
    "                                            'f_CD_year',\n",
    "                                            'f_CD_month',\n",
    "                                            'f_CD_day_of_week',\n",
    "                                            'f_CO_inicio_year',\n",
    "                                            'f_CO_inicio_month',\n",
    "                                            'f_CO_fin_year',\n",
    "                                            'f_CO_fin_month' \n",
    "                                            ])"
   ]
  },
  {
   "cell_type": "code",
   "execution_count": null,
   "metadata": {},
   "outputs": [],
   "source": [
    "#fiscalizacion_final.to_csv(\"../../data/fiscalizacion_final.csv\")"
   ]
  },
  {
   "cell_type": "code",
   "execution_count": null,
   "metadata": {},
   "outputs": [],
   "source": []
  }
 ],
 "metadata": {
  "file_extension": ".py",
  "kernelspec": {
   "display_name": "Python 3",
   "language": "python",
   "name": "python3"
  },
  "language_info": {
   "codemirror_mode": {
    "name": "ipython",
    "version": 3
   },
   "file_extension": ".py",
   "mimetype": "text/x-python",
   "name": "python",
   "nbconvert_exporter": "python",
   "pygments_lexer": "ipython3",
   "version": "3.7.4"
  },
  "mimetype": "text/x-python",
  "name": "python",
  "npconvert_exporter": "python",
  "pygments_lexer": "ipython3",
  "version": 3
 },
 "nbformat": 4,
 "nbformat_minor": 4
}
