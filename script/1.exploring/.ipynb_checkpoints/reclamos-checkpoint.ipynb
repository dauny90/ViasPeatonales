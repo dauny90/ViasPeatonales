{
 "cells": [
  {
   "cell_type": "code",
   "execution_count": null,
   "metadata": {},
   "outputs": [],
   "source": [
    "import pandas as pd"
   ]
  },
  {
   "cell_type": "code",
   "execution_count": 31,
   "metadata": {},
   "outputs": [],
   "source": [
    "#Leer archivos\n",
    "reclamos = pd.read_csv(\"../../data/reclamos.csv\")\n",
    "grupoplanificador = pd.read_excel(\"../../data/grupoPlanificador.xlsx\")"
   ]
  },
  {
   "cell_type": "code",
   "execution_count": 32,
   "metadata": {},
   "outputs": [],
   "source": [
    "reclamos[\"lon\"] = reclamos[\"lon\"].round(3)\n",
    "reclamos[\"lat\"] = reclamos[\"lat\"].round(3)"
   ]
  },
  {
   "cell_type": "code",
   "execution_count": 33,
   "metadata": {},
   "outputs": [],
   "source": [
    "reclamos[\"FECHA_ESTADO\"] = pd.to_datetime(reclamos[\"FECHA_ESTADO\"])"
   ]
  },
  {
   "cell_type": "code",
   "execution_count": 34,
   "metadata": {},
   "outputs": [],
   "source": [
    "grupoplanificador.columns = ['GPO_PLAN', 'AREA']"
   ]
  },
  {
   "cell_type": "code",
   "execution_count": 35,
   "metadata": {},
   "outputs": [],
   "source": [
    "reclamos = pd.merge(reclamos, grupoplanificador,on='GPO_PLAN', how='inner')"
   ]
  },
  {
   "cell_type": "code",
   "execution_count": null,
   "metadata": {},
   "outputs": [],
   "source": [
    "reclamos = pd.get_dummies(reclamos, columns=['CLASE_DE_AVISO','CODIGO_PRESTACION','STAT_USU','GRUPO PLANIFICADOR','ÁREA'])"
   ]
  },
  {
   "cell_type": "code",
   "execution_count": 30,
   "metadata": {},
   "outputs": [
    {
     "data": {
      "text/html": [
       "<div>\n",
       "<style scoped>\n",
       "    .dataframe tbody tr th:only-of-type {\n",
       "        vertical-align: middle;\n",
       "    }\n",
       "\n",
       "    .dataframe tbody tr th {\n",
       "        vertical-align: top;\n",
       "    }\n",
       "\n",
       "    .dataframe thead th {\n",
       "        text-align: right;\n",
       "    }\n",
       "</style>\n",
       "<table border=\"1\" class=\"dataframe\">\n",
       "  <thead>\n",
       "    <tr style=\"text-align: right;\">\n",
       "      <th></th>\n",
       "      <th>CLASE_DE_AVISO</th>\n",
       "      <th>CODIGO_PRESTACION</th>\n",
       "      <th>FECHA_ESTADO</th>\n",
       "      <th>STAT_USU</th>\n",
       "      <th>lon</th>\n",
       "      <th>lat</th>\n",
       "      <th>AREA</th>\n",
       "    </tr>\n",
       "  </thead>\n",
       "  <tbody>\n",
       "    <tr>\n",
       "      <td>0</td>\n",
       "      <td>SU</td>\n",
       "      <td>2.04</td>\n",
       "      <td>2018-09-24</td>\n",
       "      <td>REOK</td>\n",
       "      <td>-58.380</td>\n",
       "      <td>-34.604</td>\n",
       "      <td>ACERA</td>\n",
       "    </tr>\n",
       "    <tr>\n",
       "      <td>1</td>\n",
       "      <td>OP</td>\n",
       "      <td>2.04</td>\n",
       "      <td>2016-06-22</td>\n",
       "      <td>REOK</td>\n",
       "      <td>-58.392</td>\n",
       "      <td>-34.609</td>\n",
       "      <td>ACERA</td>\n",
       "    </tr>\n",
       "    <tr>\n",
       "      <td>2</td>\n",
       "      <td>OP</td>\n",
       "      <td>2.04</td>\n",
       "      <td>2018-09-25</td>\n",
       "      <td>REOK</td>\n",
       "      <td>-58.398</td>\n",
       "      <td>-34.606</td>\n",
       "      <td>ACERA</td>\n",
       "    </tr>\n",
       "    <tr>\n",
       "      <td>3</td>\n",
       "      <td>SU</td>\n",
       "      <td>2.04</td>\n",
       "      <td>2018-09-24</td>\n",
       "      <td>REOK</td>\n",
       "      <td>-58.481</td>\n",
       "      <td>-34.652</td>\n",
       "      <td>ACERA</td>\n",
       "    </tr>\n",
       "    <tr>\n",
       "      <td>4</td>\n",
       "      <td>SU</td>\n",
       "      <td>2.03</td>\n",
       "      <td>2018-03-21</td>\n",
       "      <td>IM01</td>\n",
       "      <td>-58.477</td>\n",
       "      <td>-34.617</td>\n",
       "      <td>ACERA</td>\n",
       "    </tr>\n",
       "    <tr>\n",
       "      <td>...</td>\n",
       "      <td>...</td>\n",
       "      <td>...</td>\n",
       "      <td>...</td>\n",
       "      <td>...</td>\n",
       "      <td>...</td>\n",
       "      <td>...</td>\n",
       "      <td>...</td>\n",
       "    </tr>\n",
       "    <tr>\n",
       "      <td>65596</td>\n",
       "      <td>SU</td>\n",
       "      <td>2.04</td>\n",
       "      <td>2017-02-05</td>\n",
       "      <td>VERI</td>\n",
       "      <td>-58.431</td>\n",
       "      <td>-34.619</td>\n",
       "      <td>ACERA</td>\n",
       "    </tr>\n",
       "    <tr>\n",
       "      <td>65597</td>\n",
       "      <td>OP</td>\n",
       "      <td>2.01</td>\n",
       "      <td>2016-11-17</td>\n",
       "      <td>VERI</td>\n",
       "      <td>-58.489</td>\n",
       "      <td>-34.571</td>\n",
       "      <td>ACERA</td>\n",
       "    </tr>\n",
       "    <tr>\n",
       "      <td>65598</td>\n",
       "      <td>SU</td>\n",
       "      <td>2.40</td>\n",
       "      <td>2018-06-08</td>\n",
       "      <td>REOK</td>\n",
       "      <td>-58.395</td>\n",
       "      <td>-34.656</td>\n",
       "      <td>ACERA</td>\n",
       "    </tr>\n",
       "    <tr>\n",
       "      <td>65599</td>\n",
       "      <td>SU</td>\n",
       "      <td>2.04</td>\n",
       "      <td>2017-06-12</td>\n",
       "      <td>OPER</td>\n",
       "      <td>-58.407</td>\n",
       "      <td>-34.592</td>\n",
       "      <td>ACERA</td>\n",
       "    </tr>\n",
       "    <tr>\n",
       "      <td>65600</td>\n",
       "      <td>SU</td>\n",
       "      <td>2.04</td>\n",
       "      <td>2018-08-10</td>\n",
       "      <td>REOK</td>\n",
       "      <td>-58.451</td>\n",
       "      <td>-34.567</td>\n",
       "      <td>ACERA</td>\n",
       "    </tr>\n",
       "  </tbody>\n",
       "</table>\n",
       "<p>65601 rows × 7 columns</p>\n",
       "</div>"
      ],
      "text/plain": [
       "      CLASE_DE_AVISO  CODIGO_PRESTACION FECHA_ESTADO STAT_USU     lon     lat  \\\n",
       "0                 SU               2.04   2018-09-24     REOK -58.380 -34.604   \n",
       "1                 OP               2.04   2016-06-22     REOK -58.392 -34.609   \n",
       "2                 OP               2.04   2018-09-25     REOK -58.398 -34.606   \n",
       "3                 SU               2.04   2018-09-24     REOK -58.481 -34.652   \n",
       "4                 SU               2.03   2018-03-21     IM01 -58.477 -34.617   \n",
       "...              ...                ...          ...      ...     ...     ...   \n",
       "65596             SU               2.04   2017-02-05     VERI -58.431 -34.619   \n",
       "65597             OP               2.01   2016-11-17     VERI -58.489 -34.571   \n",
       "65598             SU               2.40   2018-06-08     REOK -58.395 -34.656   \n",
       "65599             SU               2.04   2017-06-12     OPER -58.407 -34.592   \n",
       "65600             SU               2.04   2018-08-10     REOK -58.451 -34.567   \n",
       "\n",
       "        AREA  \n",
       "0      ACERA  \n",
       "1      ACERA  \n",
       "2      ACERA  \n",
       "3      ACERA  \n",
       "4      ACERA  \n",
       "...      ...  \n",
       "65596  ACERA  \n",
       "65597  ACERA  \n",
       "65598  ACERA  \n",
       "65599  ACERA  \n",
       "65600  ACERA  \n",
       "\n",
       "[65601 rows x 7 columns]"
      ]
     },
     "execution_count": 30,
     "metadata": {},
     "output_type": "execute_result"
    }
   ],
   "source": [
    "reclamos"
   ]
  },
  {
   "cell_type": "code",
   "execution_count": null,
   "metadata": {},
   "outputs": [],
   "source": []
  }
 ],
 "metadata": {
  "kernelspec": {
   "display_name": "Python 3",
   "language": "python",
   "name": "python3"
  },
  "language_info": {
   "codemirror_mode": {
    "name": "ipython",
    "version": 3
   },
   "file_extension": ".py",
   "mimetype": "text/x-python",
   "name": "python",
   "nbconvert_exporter": "python",
   "pygments_lexer": "ipython3",
   "version": "3.7.4"
  }
 },
 "nbformat": 4,
 "nbformat_minor": 4
}
